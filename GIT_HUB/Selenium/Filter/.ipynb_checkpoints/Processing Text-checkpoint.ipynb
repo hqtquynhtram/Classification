{
 "cells": [
  {
   "cell_type": "code",
   "execution_count": 7,
   "metadata": {},
   "outputs": [],
   "source": [
    "import pandas as pd\n",
    "import string\n",
    "import numpy as np\n",
    "import re"
   ]
  },
  {
   "cell_type": "markdown",
   "metadata": {},
   "source": [
    "# LOS ANGELES"
   ]
  },
  {
   "cell_type": "code",
   "execution_count": 166,
   "metadata": {},
   "outputs": [
    {
     "data": {
      "text/html": [
       "<div>\n",
       "<style scoped>\n",
       "    .dataframe tbody tr th:only-of-type {\n",
       "        vertical-align: middle;\n",
       "    }\n",
       "\n",
       "    .dataframe tbody tr th {\n",
       "        vertical-align: top;\n",
       "    }\n",
       "\n",
       "    .dataframe thead th {\n",
       "        text-align: right;\n",
       "    }\n",
       "</style>\n",
       "<table border=\"1\" class=\"dataframe\">\n",
       "  <thead>\n",
       "    <tr style=\"text-align: right;\">\n",
       "      <th></th>\n",
       "      <th>Job Title</th>\n",
       "      <th>Company Name</th>\n",
       "      <th>Time</th>\n",
       "      <th>Applicants</th>\n",
       "      <th>Place</th>\n",
       "      <th>Job Description</th>\n",
       "      <th>Skill</th>\n",
       "      <th>Url</th>\n",
       "    </tr>\n",
       "  </thead>\n",
       "  <tbody>\n",
       "    <tr>\n",
       "      <th>0</th>\n",
       "      <td>Sr Data Analyst Financial Contract Reporting</td>\n",
       "      <td>Warner Bros Entertainment</td>\n",
       "      <td>2 weeks</td>\n",
       "      <td>25.0</td>\n",
       "      <td></td>\n",
       "      <td>What part will you play   W...</td>\n",
       "      <td></td>\n",
       "      <td>'https://www.linkedin.com/jos/view/1122966455/...</td>\n",
       "    </tr>\n",
       "    <tr>\n",
       "      <th>1</th>\n",
       "      <td>Big Data Engineer Microservices Developer</td>\n",
       "      <td>Perficient</td>\n",
       "      <td>2 weeks</td>\n",
       "      <td>25.0</td>\n",
       "      <td>Los Angeles CA US</td>\n",
       "      <td>At Perficient youxe2x80x99ll d...</td>\n",
       "      <td></td>\n",
       "      <td>'https://www.linkedin.com/jos/view/1093295519/...</td>\n",
       "    </tr>\n",
       "  </tbody>\n",
       "</table>\n",
       "</div>"
      ],
      "text/plain": [
       "                                      Job Title               Company Name  \\\n",
       "0  Sr Data Analyst Financial Contract Reporting  Warner Bros Entertainment   \n",
       "1     Big Data Engineer Microservices Developer                 Perficient   \n",
       "\n",
       "      Time  Applicants              Place  \\\n",
       "0  2 weeks        25.0                      \n",
       "1  2 weeks        25.0  Los Angeles CA US   \n",
       "\n",
       "                                     Job Description Skill  \\\n",
       "0                     What part will you play   W...         \n",
       "1                  At Perficient youxe2x80x99ll d...         \n",
       "\n",
       "                                                 Url  \n",
       "0  'https://www.linkedin.com/jos/view/1122966455/...  \n",
       "1  'https://www.linkedin.com/jos/view/1093295519/...  "
      ]
     },
     "execution_count": 166,
     "metadata": {},
     "output_type": "execute_result"
    }
   ],
   "source": [
    "#Import dataframe \n",
    "df=pd.read_csv('result_file.csv', encoding = 'utf8')\n",
    "#Preprocessing\n",
    "\n",
    "df=df.dropna()\n",
    "def remove_punctuation(s):\n",
    "    s = ''.join([i for i in s if i not in frozenset(string.punctuation)])\n",
    "    return s\n",
    "\n",
    "\n",
    "for i in range(7):\n",
    "    df.iloc[:,i]=df.iloc[:,i].apply(remove_punctuation)\n",
    "\n",
    "df=df.replace({'b':''}, regex=True)\n",
    "df['Time']=df['Time'].apply(lambda x: x[19:26])\n",
    "df['Applicants']=df['Applicants'].apply(lambda x: int(re.findall(r'\\d+', x)[0]) if len(x)!=0 else None)\n",
    "df.head(2)"
   ]
  },
  {
   "cell_type": "code",
   "execution_count": 213,
   "metadata": {},
   "outputs": [
    {
     "name": "stdout",
     "output_type": "stream",
     "text": [
      "<class 'pandas.core.frame.DataFrame'>\n",
      "Int64Index: 512 entries, 0 to 511\n",
      "Data columns (total 8 columns):\n",
      "Job Title          512 non-null object\n",
      "Company Name       512 non-null object\n",
      "Time               512 non-null object\n",
      "Applicants         414 non-null float64\n",
      "Place              512 non-null object\n",
      "Job Description    512 non-null object\n",
      "Skill              512 non-null object\n",
      "Url                512 non-null object\n",
      "dtypes: float64(1), object(7)\n",
      "memory usage: 36.0+ KB\n"
     ]
    }
   ],
   "source": [
    "df.info()"
   ]
  },
  {
   "cell_type": "code",
   "execution_count": 263,
   "metadata": {},
   "outputs": [
    {
     "data": {
      "text/plain": [
       "(396, 8)"
      ]
     },
     "execution_count": 263,
     "metadata": {},
     "output_type": "execute_result"
    }
   ],
   "source": [
    "#Drop missing info of applicant\n",
    "df=df.dropna()\n",
    "df=df.drop_duplicates()\n",
    "df.shape"
   ]
  },
  {
   "cell_type": "code",
   "execution_count": 248,
   "metadata": {},
   "outputs": [
    {
     "data": {
      "text/html": [
       "<div>\n",
       "<style scoped>\n",
       "    .dataframe tbody tr th:only-of-type {\n",
       "        vertical-align: middle;\n",
       "    }\n",
       "\n",
       "    .dataframe tbody tr th {\n",
       "        vertical-align: top;\n",
       "    }\n",
       "\n",
       "    .dataframe thead th {\n",
       "        text-align: right;\n",
       "    }\n",
       "</style>\n",
       "<table border=\"1\" class=\"dataframe\">\n",
       "  <thead>\n",
       "    <tr style=\"text-align: right;\">\n",
       "      <th></th>\n",
       "      <th>Job Title</th>\n",
       "      <th>Company Name</th>\n",
       "      <th>Time</th>\n",
       "      <th>Applicants</th>\n",
       "      <th>Place</th>\n",
       "      <th>Job Description</th>\n",
       "      <th>Skill</th>\n",
       "      <th>Url</th>\n",
       "    </tr>\n",
       "  </thead>\n",
       "  <tbody>\n",
       "    <tr>\n",
       "      <th>0</th>\n",
       "      <td>Sr Data Analyst Financial Contract Reporting</td>\n",
       "      <td>Warner Bros Entertainment</td>\n",
       "      <td>2 weeks</td>\n",
       "      <td>25.0</td>\n",
       "      <td></td>\n",
       "      <td>What part will you play   W...</td>\n",
       "      <td></td>\n",
       "      <td>'https://www.linkedin.com/jos/view/1122966455/...</td>\n",
       "    </tr>\n",
       "    <tr>\n",
       "      <th>1</th>\n",
       "      <td>Big Data Engineer Microservices Developer</td>\n",
       "      <td>Perficient</td>\n",
       "      <td>2 weeks</td>\n",
       "      <td>25.0</td>\n",
       "      <td>Los Angeles CA US</td>\n",
       "      <td>At Perficient youxe2x80x99ll d...</td>\n",
       "      <td></td>\n",
       "      <td>'https://www.linkedin.com/jos/view/1093295519/...</td>\n",
       "    </tr>\n",
       "  </tbody>\n",
       "</table>\n",
       "</div>"
      ],
      "text/plain": [
       "                                      Job Title               Company Name  \\\n",
       "0  Sr Data Analyst Financial Contract Reporting  Warner Bros Entertainment   \n",
       "1     Big Data Engineer Microservices Developer                 Perficient   \n",
       "\n",
       "      Time  Applicants              Place  \\\n",
       "0  2 weeks        25.0                      \n",
       "1  2 weeks        25.0  Los Angeles CA US   \n",
       "\n",
       "                                     Job Description Skill  \\\n",
       "0                     What part will you play   W...         \n",
       "1                  At Perficient youxe2x80x99ll d...         \n",
       "\n",
       "                                                 Url  \n",
       "0  'https://www.linkedin.com/jos/view/1122966455/...  \n",
       "1  'https://www.linkedin.com/jos/view/1093295519/...  "
      ]
     },
     "execution_count": 248,
     "metadata": {},
     "output_type": "execute_result"
    }
   ],
   "source": [
    "df2=df.copy()\n",
    "df2.head(2)"
   ]
  },
  {
   "cell_type": "code",
   "execution_count": 272,
   "metadata": {},
   "outputs": [
    {
     "data": {
      "text/plain": [
       "(246, 8)"
      ]
     },
     "execution_count": 272,
     "metadata": {},
     "output_type": "execute_result"
    }
   ],
   "source": [
    "#REMOVE THE BIG COMPANY\n",
    "#Facebook\n",
    "name_list=[]\n",
    "big_company=[\"Warner\", \"Mircosoft\",\"Google\",\"Amazon\",\"IBM\",\"Teradata\",\"Oracle\",\"SAP\",\"HP\",\"Dell\",\"VMware\",\n",
    "            \"ScienceSoft\",\"QBurst\",\"Guavus\",\"Blue Yonder\",\"Datascope\",\"Lightwell\",\"Accenture\",\n",
    "            \"Wipro\",\"SAP\",\"1010data\",\"Anaconda\",\"Datameer\",\"ClearStory\",\"Tableau\"]\n",
    "for i, item in enumerate(df2['Company Name']):\n",
    "    for name in big_company:\n",
    "        if name in item.split():\n",
    "            name_list.append(i)\n",
    "        else:\n",
    "            pass\n",
    "        \n",
    "#Drop big companies\n",
    "df2.drop(df2.index[name_list], inplace=True)\n",
    "df2.shape"
   ]
  },
  {
   "cell_type": "code",
   "execution_count": 273,
   "metadata": {},
   "outputs": [
    {
     "data": {
      "text/plain": [
       "(246, 8)"
      ]
     },
     "execution_count": 273,
     "metadata": {},
     "output_type": "execute_result"
    }
   ],
   "source": [
    "#Remove high_level position\n",
    "high_position_list=['Senior','Sr',\"Manager\",\"Chief\",\"Director\"]\n",
    "position_list=[]\n",
    "for i, item in enumerate(df2['Job Title']):\n",
    "    for name in high_position_list:\n",
    "        if name in item.split():\n",
    "            position_list.append(i)\n",
    "        else:\n",
    "            pass\n",
    "        \n",
    "#Drop big companies\n",
    "df2.drop(df2.index[position_list], inplace=True)\n",
    "df2.shape"
   ]
  },
  {
   "cell_type": "code",
   "execution_count": 261,
   "metadata": {},
   "outputs": [
    {
     "data": {
      "text/html": [
       "<div>\n",
       "<style scoped>\n",
       "    .dataframe tbody tr th:only-of-type {\n",
       "        vertical-align: middle;\n",
       "    }\n",
       "\n",
       "    .dataframe tbody tr th {\n",
       "        vertical-align: top;\n",
       "    }\n",
       "\n",
       "    .dataframe thead th {\n",
       "        text-align: right;\n",
       "    }\n",
       "</style>\n",
       "<table border=\"1\" class=\"dataframe\">\n",
       "  <thead>\n",
       "    <tr style=\"text-align: right;\">\n",
       "      <th></th>\n",
       "      <th>Job Title</th>\n",
       "      <th>Company Name</th>\n",
       "      <th>Time</th>\n",
       "      <th>Applicants</th>\n",
       "      <th>Place</th>\n",
       "      <th>Job Description</th>\n",
       "      <th>Skill</th>\n",
       "      <th>Url</th>\n",
       "    </tr>\n",
       "  </thead>\n",
       "  <tbody>\n",
       "    <tr>\n",
       "      <th>1</th>\n",
       "      <td>Big Data Engineer Microservices Developer</td>\n",
       "      <td>Perficient</td>\n",
       "      <td>2 weeks</td>\n",
       "      <td>25.0</td>\n",
       "      <td>Los Angeles CA US</td>\n",
       "      <td>At Perficient youxe2x80x99ll d...</td>\n",
       "      <td></td>\n",
       "      <td>'https://www.linkedin.com/jos/view/1093295519/...</td>\n",
       "    </tr>\n",
       "    <tr>\n",
       "      <th>5</th>\n",
       "      <td>Big Data Engineer</td>\n",
       "      <td>Ksquare Inc</td>\n",
       "      <td>2 weeks</td>\n",
       "      <td>54.0</td>\n",
       "      <td>Glendale California</td>\n",
       "      <td>Role  Big Data Engineer   Dur...</td>\n",
       "      <td>Python Programming Language Engineers Lake Sui...</td>\n",
       "      <td>'https://www.linkedin.com/jos/view/1124180176/...</td>\n",
       "    </tr>\n",
       "    <tr>\n",
       "      <th>7</th>\n",
       "      <td>Computational Immunology Scientist</td>\n",
       "      <td></td>\n",
       "      <td>2 days</td>\n",
       "      <td>39.0</td>\n",
       "      <td>Greater Los Angeles Area</td>\n",
       "      <td>CompanyTechnology Overview Dx...</td>\n",
       "      <td>Python Programming Language Data Science R Pos...</td>\n",
       "      <td>'https://www.linkedin.com/jos/view/1068575926/...</td>\n",
       "    </tr>\n",
       "    <tr>\n",
       "      <th>8</th>\n",
       "      <td>Data Scientist Sales Engineering</td>\n",
       "      <td>Factual Inc</td>\n",
       "      <td>2 weeks</td>\n",
       "      <td>191.0</td>\n",
       "      <td></td>\n",
       "      <td>Factual is the location data ...</td>\n",
       "      <td>Statistics Python Programming Language Compute...</td>\n",
       "      <td>'https://www.linkedin.com/jos/view/1067889006/...</td>\n",
       "    </tr>\n",
       "    <tr>\n",
       "      <th>9</th>\n",
       "      <td>Data Scientist Predictive Analytics</td>\n",
       "      <td>Farmers Insurance</td>\n",
       "      <td>3 weeks</td>\n",
       "      <td>73.0</td>\n",
       "      <td></td>\n",
       "      <td>We are Farmers   Join a team ...</td>\n",
       "      <td></td>\n",
       "      <td>'https://www.linkedin.com/jos/view/1091971261/...</td>\n",
       "    </tr>\n",
       "  </tbody>\n",
       "</table>\n",
       "</div>"
      ],
      "text/plain": [
       "                                   Job Title       Company Name     Time  \\\n",
       "1  Big Data Engineer Microservices Developer         Perficient  2 weeks   \n",
       "5                          Big Data Engineer        Ksquare Inc  2 weeks   \n",
       "7         Computational Immunology Scientist                     2 days    \n",
       "8           Data Scientist Sales Engineering        Factual Inc  2 weeks   \n",
       "9        Data Scientist Predictive Analytics  Farmers Insurance  3 weeks   \n",
       "\n",
       "   Applicants                     Place  \\\n",
       "1        25.0         Los Angeles CA US   \n",
       "5        54.0       Glendale California   \n",
       "7        39.0  Greater Los Angeles Area   \n",
       "8       191.0                             \n",
       "9        73.0                             \n",
       "\n",
       "                                     Job Description  \\\n",
       "1                  At Perficient youxe2x80x99ll d...   \n",
       "5                   Role  Big Data Engineer   Dur...   \n",
       "7                   CompanyTechnology Overview Dx...   \n",
       "8                   Factual is the location data ...   \n",
       "9                   We are Farmers   Join a team ...   \n",
       "\n",
       "                                               Skill  \\\n",
       "1                                                      \n",
       "5  Python Programming Language Engineers Lake Sui...   \n",
       "7  Python Programming Language Data Science R Pos...   \n",
       "8  Statistics Python Programming Language Compute...   \n",
       "9                                                      \n",
       "\n",
       "                                                 Url  \n",
       "1  'https://www.linkedin.com/jos/view/1093295519/...  \n",
       "5  'https://www.linkedin.com/jos/view/1124180176/...  \n",
       "7  'https://www.linkedin.com/jos/view/1068575926/...  \n",
       "8  'https://www.linkedin.com/jos/view/1067889006/...  \n",
       "9  'https://www.linkedin.com/jos/view/1091971261/...  "
      ]
     },
     "execution_count": 261,
     "metadata": {},
     "output_type": "execute_result"
    }
   ],
   "source": [
    "df2.head()"
   ]
  },
  {
   "cell_type": "code",
   "execution_count": 271,
   "metadata": {},
   "outputs": [
    {
     "data": {
      "text/plain": [
       "(248, 8)"
      ]
     },
     "execution_count": 271,
     "metadata": {},
     "output_type": "execute_result"
    }
   ],
   "source": [
    "#Remove company have more than 100 applicants\n",
    "df2=df2[df2['Applicants']<100]\n",
    "df2.shape"
   ]
  },
  {
   "cell_type": "code",
   "execution_count": null,
   "metadata": {},
   "outputs": [],
   "source": [
    "#Filter company upload 1 months ago\n"
   ]
  }
 ],
 "metadata": {
  "kernelspec": {
   "display_name": "Python 3",
   "language": "python",
   "name": "python3"
  },
  "language_info": {
   "codemirror_mode": {
    "name": "ipython",
    "version": 3
   },
   "file_extension": ".py",
   "mimetype": "text/x-python",
   "name": "python",
   "nbconvert_exporter": "python",
   "pygments_lexer": "ipython3",
   "version": "3.6.8"
  }
 },
 "nbformat": 4,
 "nbformat_minor": 2
}
